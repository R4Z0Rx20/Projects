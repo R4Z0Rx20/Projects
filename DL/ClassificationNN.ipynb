{
 "cells": [
  {
   "cell_type": "code",
   "execution_count": 1,
   "id": "1003ca4b",
   "metadata": {},
   "outputs": [],
   "source": [
    "import torch\n",
    "import pandas\n",
    "from torch.utils.data import Dataset"
   ]
  },
  {
   "cell_type": "code",
   "execution_count": 2,
   "id": "a553378a",
   "metadata": {},
   "outputs": [],
   "source": [
    "class MushroomDataset(Dataset):\n",
    "    def __init__(self):\n",
    "         self.data = pandas.read_csv('mushrooms.csv')\n",
    "    def __len__(self):\n",
    "        return len(self.data)\n",
    "    def __getitem__(self, idx):\n",
    "        return self.data.iloc[idx][0:1]"
   ]
  },
  {
   "cell_type": "code",
   "execution_count": 3,
   "id": "29381eb3",
   "metadata": {},
   "outputs": [
    {
     "data": {
      "text/plain": [
       "(8124,\n",
       " class    p\n",
       " Name: 0, dtype: object)"
      ]
     },
     "execution_count": 3,
     "metadata": {},
     "output_type": "execute_result"
    }
   ],
   "source": [
    "shrooms = MushroomDataset()\n",
    "len(shrooms), shrooms[0]"
   ]
  },
  {
   "cell_type": "code",
   "execution_count": 2,
   "id": "a2f3819b",
   "metadata": {},
   "outputs": [],
   "source": [
    "class MushroomDataset(Dataset):\n",
    "    def __init__(self):\n",
    "         self.data = pandas.read_csv('mushrooms.csv')\n",
    "    def __len__(self):\n",
    "        return len(self.data)\n",
    "    def __getitem__(self, idx):\n",
    "        if type(idx) is torch.Tensor:\n",
    "            idx = idx.item()\n",
    "        return self.data.iloc[idx][1:], self.data.iloc[idx][0:1]"
   ]
  },
  {
   "cell_type": "code",
   "execution_count": 3,
   "id": "b6be476b",
   "metadata": {},
   "outputs": [
    {
     "data": {
      "text/plain": [
       "(cap-shape                   x\n",
       " cap-surface                 s\n",
       " cap-color                   n\n",
       " bruises                     t\n",
       " odor                        p\n",
       " gill-attachment             f\n",
       " gill-spacing                c\n",
       " gill-size                   n\n",
       " gill-color                  k\n",
       " stalk-shape                 e\n",
       " stalk-root                  e\n",
       " stalk-surface-above-ring    s\n",
       " stalk-surface-below-ring    s\n",
       " stalk-color-above-ring      w\n",
       " stalk-color-below-ring      w\n",
       " veil-type                   p\n",
       " veil-color                  w\n",
       " ring-number                 o\n",
       " ring-type                   p\n",
       " spore-print-color           k\n",
       " population                  s\n",
       " habitat                     u\n",
       " Name: 0, dtype: object,\n",
       " class    p\n",
       " Name: 0, dtype: object)"
      ]
     },
     "execution_count": 3,
     "metadata": {},
     "output_type": "execute_result"
    }
   ],
   "source": [
    "shrooms = MushroomDataset()\n",
    "shrooms[0]"
   ]
  },
  {
   "cell_type": "code",
   "execution_count": 6,
   "id": "0bdebf3a",
   "metadata": {},
   "outputs": [
    {
     "data": {
      "text/plain": [
       "(406, 7718)"
      ]
     },
     "execution_count": 6,
     "metadata": {},
     "output_type": "execute_result"
    }
   ],
   "source": [
    "number_for_testing = int(len(shrooms) * 0.05)\n",
    "number_for_training = len(shrooms) - number_for_testing\n",
    "\n",
    "train, test = torch.utils.data.random_split(shrooms,\n",
    "                                           [number_for_training, number_for_testing])\n",
    "len(test), len(train)"
   ]
  },
  {
   "cell_type": "code",
   "execution_count": 7,
   "id": "9b7ce219",
   "metadata": {},
   "outputs": [
    {
     "data": {
      "text/plain": [
       "(cap-shape                   x\n",
       " cap-surface                 f\n",
       " cap-color                   n\n",
       " bruises                     f\n",
       " odor                        n\n",
       " gill-attachment             f\n",
       " gill-spacing                c\n",
       " gill-size                   n\n",
       " gill-color                  n\n",
       " stalk-shape                 e\n",
       " stalk-root                  e\n",
       " stalk-surface-above-ring    s\n",
       " stalk-surface-below-ring    s\n",
       " stalk-color-above-ring      w\n",
       " stalk-color-below-ring      w\n",
       " veil-type                   p\n",
       " veil-color                  w\n",
       " ring-number                 o\n",
       " ring-type                   p\n",
       " spore-print-color           n\n",
       " population                  v\n",
       " habitat                     u\n",
       " Name: 1026, dtype: object,\n",
       " class    e\n",
       " Name: 1026, dtype: object)"
      ]
     },
     "execution_count": 7,
     "metadata": {},
     "output_type": "execute_result"
    }
   ],
   "source": [
    "test[0]"
   ]
  },
  {
   "cell_type": "code",
   "execution_count": 12,
   "id": "b900cbde",
   "metadata": {},
   "outputs": [],
   "source": [
    "class OneHotEncoder():\n",
    "    def __init__(self, series):\n",
    "        unique_values = series.unique()\n",
    "        self.ordinals = {\n",
    "        val : i for i, val in enumerate(unique_values)\n",
    "        }\n",
    "        self.encoder = torch.eye(\n",
    "        len(unique_values), len(unique_values)\n",
    "        )\n",
    "    def __getitem__(self, value):\n",
    "        return self.encoder[self.ordinals[value]]"
   ]
  },
  {
   "cell_type": "code",
   "execution_count": 17,
   "id": "6eabf5cf",
   "metadata": {},
   "outputs": [],
   "source": [
    "class CatagoricalCSV(Dataset):\n",
    "    def __init__(self, datafile, output_series_name):\n",
    "        self.dataset = pandas.read_csv(datafile)\n",
    "        self.output_series_name = output_series_name\n",
    "        self.encoders = {}\n",
    "        for series_name, series in self.dataset.items():\n",
    "            self.encoders[series_name] = OneHotEncoder(series)\n",
    "    def __len__(self):\n",
    "        return len(self.dataset)\n",
    "    def __getitem__(self, index):\n",
    "        if type(index) is torch.Tensor:\n",
    "            index = index.item()\n",
    "        sample = self.dataset.iloc[index]\n",
    "        output = self.encoders[self.output_series_name][\n",
    "            sample[self.output_series_name]\n",
    "        ]\n",
    "        input_components = []\n",
    "        for name, value in sample.items():\n",
    "            if name != self.output_series_name:\n",
    "                input_components.append(\n",
    "                self.encoders[name][value]\n",
    "                )\n",
    "        input = torch.cat(input_components)\n",
    "        return input, output"
   ]
  },
  {
   "cell_type": "code",
   "execution_count": 18,
   "id": "21e224a6",
   "metadata": {},
   "outputs": [
    {
     "data": {
      "text/plain": [
       "(tensor([1., 0., 0., 0., 0., 0., 1., 0., 0., 0., 1., 0., 0., 0., 0., 0., 0., 0.,\n",
       "         0., 0., 1., 0., 1., 0., 0., 0., 0., 0., 0., 0., 0., 1., 0., 1., 0., 1.,\n",
       "         0., 1., 0., 0., 0., 0., 0., 0., 0., 0., 0., 0., 0., 1., 0., 1., 0., 0.,\n",
       "         0., 0., 1., 0., 0., 0., 1., 0., 0., 0., 1., 0., 0., 0., 0., 0., 0., 0.,\n",
       "         0., 1., 0., 0., 0., 0., 0., 0., 0., 0., 1., 1., 0., 0., 0., 1., 0., 0.,\n",
       "         1., 0., 0., 0., 0., 1., 0., 0., 0., 0., 0., 0., 0., 0., 1., 0., 0., 0.,\n",
       "         0., 0., 1., 0., 0., 0., 0., 0., 0.]),\n",
       " tensor([1., 0.]))"
      ]
     },
     "execution_count": 18,
     "metadata": {},
     "output_type": "execute_result"
    }
   ],
   "source": [
    "shrooms = CatagoricalCSV('mushrooms.csv', 'class')\n",
    "shrooms[0]"
   ]
  },
  {
   "cell_type": "code",
   "execution_count": 19,
   "id": "48e0e411",
   "metadata": {},
   "outputs": [],
   "source": [
    "class Model(torch.nn.Module):\n",
    "    def __init__(self, input_dimensions, output_dimensions, size = 128):\n",
    "        super().__init__()\n",
    "        self.layer_one = torch.nn.Linear(input_dimensions, size)\n",
    "        self.activation_one = torch.nn.ReLU()\n",
    "        self.layer_two = torch.nn.Linear(size, size)\n",
    "        self.activation_two = torch.nn.ReLU()\n",
    "        \n",
    "        self.shape_outputs = torch.nn.Linear(size, output_dimensions)\n",
    "        \n",
    "        \n",
    "    def forward(self, inputs):\n",
    "        buffer = self.layer_one(inputs)\n",
    "        buffer = self.activation_one(buffer)\n",
    "        buffer = self.layer_two(buffer)\n",
    "        buffer = self.activation_two(buffer)\n",
    "        buffer = self.shape_outputs(buffer)\n",
    "        return torch.nn.functional.softmax(buffer, dim=-1)\n"
   ]
  },
  {
   "cell_type": "code",
   "execution_count": 4,
   "id": "86f5d9bb",
   "metadata": {},
   "outputs": [
    {
     "data": {
      "text/plain": [
       "22"
      ]
     },
     "execution_count": 4,
     "metadata": {},
     "output_type": "execute_result"
    }
   ],
   "source": [
    "shrooms[0][0].shape[0]"
   ]
  },
  {
   "cell_type": "code",
   "execution_count": 20,
   "id": "86cdda4b",
   "metadata": {},
   "outputs": [],
   "source": [
    "model = Model(shrooms[0][0].shape[0], shrooms[0][1].shape[0])\n",
    "optimizer = torch.optim.Adam(model.parameters())\n",
    "loss_function = torch.nn.BCELoss()"
   ]
  },
  {
   "cell_type": "code",
   "execution_count": 21,
   "id": "525b8f8b",
   "metadata": {},
   "outputs": [
    {
     "data": {
      "text/plain": [
       "(406, 7718)"
      ]
     },
     "execution_count": 21,
     "metadata": {},
     "output_type": "execute_result"
    }
   ],
   "source": [
    "number_for_testing = int(len(shrooms) * 0.05)\n",
    "number_for_training = len(shrooms) - number_for_testing\n",
    "\n",
    "train, test = torch.utils.data.random_split(shrooms,\n",
    "                                           [number_for_training, number_for_testing])\n",
    "len(test), len(train)"
   ]
  },
  {
   "cell_type": "code",
   "execution_count": 22,
   "id": "a53a3f84",
   "metadata": {},
   "outputs": [
    {
     "name": "stdout",
     "output_type": "stream",
     "text": [
      "Loss: 1.1547460417205002e-05\n",
      "Loss: 5.941860308666946e-06\n",
      "Loss: 7.273612936842255e-06\n",
      "Loss: 2.825445903908985e-07\n"
     ]
    }
   ],
   "source": [
    "training = torch.utils.data.DataLoader(train, batch_size = 16, shuffle = True)\n",
    "\n",
    "for epoch in range(4):\n",
    "    for inputs, outputs in training:\n",
    "        optimizer.zero_grad()\n",
    "        results = model(inputs)\n",
    "        loss = loss_function(results, outputs)\n",
    "        loss.backward()\n",
    "        optimizer.step()\n",
    "        \n",
    "    print(\"Loss: {0}\".format(loss))"
   ]
  },
  {
   "cell_type": "code",
   "execution_count": 26,
   "id": "60974e92",
   "metadata": {},
   "outputs": [],
   "source": [
    "import sklearn.metrics"
   ]
  },
  {
   "cell_type": "code",
   "execution_count": 27,
   "id": "ee5e04e2",
   "metadata": {},
   "outputs": [
    {
     "name": "stdout",
     "output_type": "stream",
     "text": [
      "1.0\n"
     ]
    }
   ],
   "source": [
    "testing = torch.utils.data.DataLoader(test, batch_size = len(test), shuffle=False)\n",
    "\n",
    "for inputs, outputs in testing:\n",
    "    results = model(inputs).argmax(dim=1).numpy()\n",
    "    actual = outputs.argmax(dim=1).numpy()\n",
    "    accuracy = sklearn.metrics.accuracy_score(actual, results)\n",
    "    print(accuracy)"
   ]
  },
  {
   "cell_type": "code",
   "execution_count": 28,
   "id": "d5a0ade9",
   "metadata": {},
   "outputs": [
    {
     "data": {
      "text/plain": [
       "array([[193,   0],\n",
       "       [  0, 213]], dtype=int64)"
      ]
     },
     "execution_count": 28,
     "metadata": {},
     "output_type": "execute_result"
    }
   ],
   "source": [
    "sklearn.metrics.confusion_matrix(actual, results)"
   ]
  },
  {
   "cell_type": "code",
   "execution_count": 29,
   "id": "9ca8cf6f",
   "metadata": {},
   "outputs": [
    {
     "name": "stdout",
     "output_type": "stream",
     "text": [
      "              precision    recall  f1-score   support\n",
      "\n",
      "           0       1.00      1.00      1.00       193\n",
      "           1       1.00      1.00      1.00       213\n",
      "\n",
      "    accuracy                           1.00       406\n",
      "   macro avg       1.00      1.00      1.00       406\n",
      "weighted avg       1.00      1.00      1.00       406\n",
      "\n"
     ]
    }
   ],
   "source": [
    "print(sklearn.metrics.classification_report(actual, results))"
   ]
  },
  {
   "cell_type": "code",
   "execution_count": null,
   "id": "5aca0144",
   "metadata": {},
   "outputs": [],
   "source": []
  }
 ],
 "metadata": {
  "kernelspec": {
   "display_name": "Python 3 (ipykernel)",
   "language": "python",
   "name": "python3"
  },
  "language_info": {
   "codemirror_mode": {
    "name": "ipython",
    "version": 3
   },
   "file_extension": ".py",
   "mimetype": "text/x-python",
   "name": "python",
   "nbconvert_exporter": "python",
   "pygments_lexer": "ipython3",
   "version": "3.9.13"
  }
 },
 "nbformat": 4,
 "nbformat_minor": 5
}
